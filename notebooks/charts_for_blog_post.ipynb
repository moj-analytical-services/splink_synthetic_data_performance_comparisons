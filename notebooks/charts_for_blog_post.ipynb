{
 "cells": [
  {
   "cell_type": "code",
   "execution_count": null,
   "metadata": {},
   "outputs": [],
   "source": [
    "import pandas as pd"
   ]
  },
  {
   "cell_type": "code",
   "execution_count": null,
   "metadata": {},
   "outputs": [],
   "source": [
    "df_model_00_rules_based = pd.read_parquet(\n",
    "    \"s3://alpha-splink-synthetic-data/charts/person/v01/uk_citizens_max_groupsize_20/model_00_rules_based/2021-01-01/truth_space_table/\"\n",
    ")"
   ]
  },
  {
   "cell_type": "code",
   "execution_count": null,
   "metadata": {},
   "outputs": [],
   "source": [
    "row = df_model_00_rules_based.loc[1].copy()\n",
    "cols = [\"P\", \"N\", \"TP\", \"TN\", \"FP\", \"FN\", \"P_rate\", \"N_rate\", \"TP_rate\", \"TN_rate\", \"FN_rate\", \"precision\"]\n",
    "for c in cols:\n",
    "    row[c] = \"\"\n",
    "row[\"truth_threshold\"] = 1.0\n",
    "\n",
    "row[\"FP_rate\"] = 0.0\n",
    "row[\"TP_rate\"] = 0.0\n",
    "row[\"recall\"] = 0.0\n",
    "\n",
    "df_model_00_rules_based.loc[2] = row\n",
    "df_model_00_rules_based"
   ]
  },
  {
   "cell_type": "code",
   "execution_count": null,
   "metadata": {},
   "outputs": [],
   "source": [
    "df_model_01_two_levels = pd.read_parquet(\n",
    "    \"s3://alpha-splink-synthetic-data/charts/person/v01/uk_citizens_max_groupsize_20/model_01_two_levels/2021-01-01/truth_space_table/\"\n",
    ")\n",
    "df_model_01_two_levels.head(2)"
   ]
  },
  {
   "cell_type": "code",
   "execution_count": null,
   "metadata": {},
   "outputs": [],
   "source": [
    "df_model_02_fuzzy_simple = pd.read_parquet(\n",
    "    \"s3://alpha-splink-synthetic-data/charts/person/v01/uk_citizens_max_groupsize_20/model_02_fuzzy_simple/2021-01-01/truth_space_table/\"\n",
    ")"
   ]
  },
  {
   "cell_type": "code",
   "execution_count": null,
   "metadata": {},
   "outputs": [],
   "source": [
    "df_model_03_fuzzy_complex = pd.read_parquet(\n",
    "    \"s3://alpha-splink-synthetic-data/charts/person/v01/uk_citizens_max_groupsize_20/model_03_fuzzy_complex/2021-01-01/truth_space_table/\"\n",
    ")"
   ]
  },
  {
   "cell_type": "code",
   "execution_count": null,
   "metadata": {},
   "outputs": [],
   "source": [
    "df_model_04_fuzzy_complex_and_tf = pd.read_parquet(\n",
    "    \"s3://alpha-splink-synthetic-data/charts/person/v01/uk_citizens_max_groupsize_20/model_04_fuzzy_complex_and_tf/2021-01-01/truth_space_table/\"\n",
    ")"
   ]
  },
  {
   "cell_type": "code",
   "execution_count": null,
   "metadata": {},
   "outputs": [],
   "source": [
    "model_05_fuzzy_complex_and_tf_weights = pd.read_parquet(\n",
    "    \"s3://alpha-splink-synthetic-data/charts/person/v01/uk_citizens_max_groupsize_20/model_05_fuzzy_complex_and_tf_weights/2021-01-01/truth_space_table/\"\n",
    ")"
   ]
  },
  {
   "cell_type": "code",
   "execution_count": null,
   "metadata": {},
   "outputs": [],
   "source": [
    "tts = {\n",
    "    \"model_00_rules_based\":df_model_00_rules_based,\n",
    "    \"model_01_two_levels\": df_model_01_two_levels,\n",
    "    \"model_02_fuzzy_simple\": df_model_02_fuzzy_simple,\n",
    "    \"model_03_fuzzy_complex\": df_model_03_fuzzy_complex,\n",
    "    \"model_04_fuzzy_complex_and_tf\": df_model_04_fuzzy_complex_and_tf,\n",
    "    \"model_05_fuzzy_complex_and_tf_weights\": model_05_fuzzy_complex_and_tf_weights,\n",
    "}"
   ]
  },
  {
   "cell_type": "code",
   "execution_count": null,
   "metadata": {},
   "outputs": [],
   "source": [
    "roc_chart_tt(tts, x_domain=[0,0.05])\n"
   ]
  },
  {
   "cell_type": "code",
   "execution_count": null,
   "metadata": {},
   "outputs": [],
   "source": [
    "c = roc_chart_tt(tts, x_domain=[0,0.05])\n",
    "c.save(\"/Users/robinlinacre/Documents/personal/robinl.github.io/src/mdx/comparing_splink_models/roc_comparison.vl.json\")"
   ]
  },
  {
   "cell_type": "code",
   "execution_count": null,
   "metadata": {},
   "outputs": [],
   "source": [
    "c = roc_chart_tt(tts, x_domain=[0,0.6])\n",
    "c.save(\"five_model_roc.html\")"
   ]
  },
  {
   "cell_type": "code",
   "execution_count": null,
   "metadata": {},
   "outputs": [],
   "source": [
    "c.save(\"four_model_roc.json\")"
   ]
  },
  {
   "cell_type": "code",
   "execution_count": null,
   "metadata": {},
   "outputs": [],
   "source": [
    "roc_chart_tt(tts, x_domain=[0,0.1])"
   ]
  },
  {
   "cell_type": "code",
   "execution_count": null,
   "metadata": {},
   "outputs": [],
   "source": [
    "roc_chart_tt(tts, x_domain=[0,0.01])"
   ]
  },
  {
   "cell_type": "code",
   "execution_count": null,
   "metadata": {},
   "outputs": [],
   "source": [
    "roc_chart_tt(tts, x_domain=[0,0.001])"
   ]
  },
  {
   "cell_type": "code",
   "execution_count": null,
   "metadata": {},
   "outputs": [],
   "source": [
    "c = roc_chart_tt(tts, x_domain=[0,0.01])\n",
    "\n",
    "c.save(\"chart_def.json\")"
   ]
  },
  {
   "cell_type": "code",
   "execution_count": null,
   "metadata": {},
   "outputs": [],
   "source": [
    "import boto3\n",
    "from IPython.display import IFrame\n",
    "\n",
    "s3_client = boto3.client(\"s3\")\n",
    "s3_client.download_file(\n",
    "    \"alpha-splink-synthetic-data\",\n",
    "    \"charts/person/v01/uk_citizens_max_groupsize_20/model_01_two_levels/2021-01-01/roc.html\",\n",
    "    \"roc1.html\",\n",
    ")\n",
    "IFrame(\n",
    "    src=\"./roc1.html\", width=1400, height=500\n",
    ")  # Show outputted html file in iframe in Juptyer"
   ]
  },
  {
   "cell_type": "code",
   "execution_count": null,
   "metadata": {},
   "outputs": [],
   "source": [
    "df = pd.read_parquet(\"s3://alpha-splink-synthetic-data/nodes/standardised_nodes/version=v01/input_datasets=uk_citizens_max_groupsize_20/job_name=basic/entity=person/snapshot_date=2021-01-01/\")"
   ]
  },
  {
   "cell_type": "code",
   "execution_count": null,
   "metadata": {},
   "outputs": [],
   "source": [
    "len(df)"
   ]
  },
  {
   "cell_type": "code",
   "execution_count": null,
   "metadata": {},
   "outputs": [],
   "source": [
    "len(df['cluster'].unique())"
   ]
  },
  {
   "cell_type": "code",
   "execution_count": null,
   "metadata": {},
   "outputs": [],
   "source": [
    "pd.options.display.max_columns = 1000\n",
    "\n",
    "\n",
    "cols = ['dob', 'birth_place', 'postcode',\n",
    "       'gender', 'occupation', 'surname_std',\n",
    "       'forename1_std', 'forename2_std']\n",
    "to_keep = [\n",
    " \"1\", \"4\", \"6\", \"8\", \"10\", \"17\", \"19\"  \n",
    "]\n",
    "to_keep = [\"Q34743-\" + c for c in to_keep]\n",
    "\n",
    "f2 = df[\"unique_id\"].isin(to_keep)\n",
    "print(df.loc[f2, cols].to_markdown(index=False))"
   ]
  },
  {
   "cell_type": "code",
   "execution_count": null,
   "metadata": {},
   "outputs": [],
   "source": [
    "from typing import Union\n",
    "\n",
    "import altair as alt\n",
    "import pandas as pd\n",
    "\n",
    "\n",
    "def roc_chart_tt(\n",
    "    df_truth_space: Union[pd.DataFrame, dict],\n",
    "    threshold_actual: float = 0.5,\n",
    "    x_domain: list = None,\n",
    "    width: int = 400,\n",
    "    height: int = 400,\n",
    "):\n",
    "    \"\"\"Create a ROC chart from labelled data\n",
    "\n",
    "    Args:\n",
    "        df_truth_space (Union[DataFrame, dict]): A dataframe of the truth space, the\n",
    "         output of the truth.truth_space_table function.  Or, a dict containing\n",
    "            one such dataframe per key.  {'model 1': df1, 'model 2': df2}.  If a dict is provided, the\n",
    "            ROC charts for each model will be plotted on the same figure.\n",
    "        x_domain (list, optional): Domain for x axis. Defaults to None.\n",
    "        width (int, optional):  Defaults to 400.\n",
    "        height (int, optional):  Defaults to 400.\n",
    "\n",
    "    \"\"\"\n",
    "\n",
    "    roc_chart_def = {\n",
    "        \"config\": {\"view\": {\"continuousWidth\": 400, \"continuousHeight\": 300}},\n",
    "        \"data\": {\"name\": \"data-fadd0e93e9546856cbc745a99e65285d\", \"values\": None},\n",
    "        \"mark\": {\"type\": \"line\", \"clip\": True, \"point\": True},\n",
    "        \"encoding\": {\n",
    "            \"tooltip\": [\n",
    "                {\"type\": \"quantitative\", \"field\": \"truth_threshold\"},\n",
    "                {\"type\": \"quantitative\", \"field\": \"FP_rate\"},\n",
    "                {\"type\": \"quantitative\", \"field\": \"TP_rate\"},\n",
    "                {\"type\": \"quantitative\", \"field\": \"TP\"},\n",
    "                {\"type\": \"quantitative\", \"field\": \"TN\"},\n",
    "                {\"type\": \"quantitative\", \"field\": \"FP\"},\n",
    "                {\"type\": \"quantitative\", \"field\": \"FN\"},\n",
    "                {\"type\": \"quantitative\", \"field\": \"precision\"},\n",
    "                {\"type\": \"quantitative\", \"field\": \"recall\"},\n",
    "            ],\n",
    "            \"x\": {\n",
    "                \"type\": \"quantitative\",\n",
    "                \"field\": \"FP_rate\",\n",
    "                \"sort\": [\"truth_threshold\"],\n",
    "                \"title\": \"False Positive Rate amongst clerically reviewed records\",\n",
    "            },\n",
    "            \"y\": {\n",
    "                \"type\": \"quantitative\",\n",
    "                \"field\": \"TP_rate\",\n",
    "                \"sort\": [\"truth_threshold\"],\n",
    "                \"title\": \"True Positive Rate amongst clerically reviewed records\",\n",
    "            },\n",
    "            \"color\": {\n",
    "                \"type\": \"nominal\",\n",
    "                \"field\": \"roc_label\",\n",
    "            },\n",
    "        },\n",
    "        \"selection\": {\n",
    "            \"selector076\": {\n",
    "                \"type\": \"interval\",\n",
    "                \"bind\": \"scales\",\n",
    "                \"encodings\": [\"x\"],\n",
    "            }\n",
    "        },\n",
    "        \"height\": height,\n",
    "        \"title\": \"Receiver operating characteristic curve\",\n",
    "        \"width\": width,\n",
    "    }\n",
    "\n",
    "    if type(df_truth_space) == pd.DataFrame:\n",
    "        del roc_chart_def[\"encoding\"][\"color\"]\n",
    "        df_truth_space = {\"model1\": df_truth_space}\n",
    "\n",
    "    dfs = []\n",
    "    for key, df in df_truth_space.items():\n",
    "        df[\"roc_label\"] = key\n",
    "        dfs.append(df)\n",
    "\n",
    "    if not x_domain:\n",
    "\n",
    "        f1 = df[\"FP_rate\"] < 1.0\n",
    "        filtered = df[f1]\n",
    "        d1 = filtered[\"FP_rate\"].max() * 1.5\n",
    "\n",
    "        x_domain = [0, d1]\n",
    "\n",
    "    roc_chart_def[\"encoding\"][\"x\"][\"scale\"] = {\"domain\": x_domain}\n",
    "\n",
    "    records = []\n",
    "    for df in dfs:\n",
    "        recs = df.to_dict(orient=\"records\")\n",
    "        records.extend(recs)\n",
    "\n",
    "    roc_chart_def[\"data\"][\"values\"] = records\n",
    "\n",
    "    return alt.Chart.from_dict(roc_chart_def)"
   ]
  },
  {
   "cell_type": "code",
   "execution_count": null,
   "metadata": {},
   "outputs": [],
   "source": [
    "from dataengineeringutils3.s3 import read_json_from_s3\n",
    "import splink\n",
    "from splink.settings import Settings\n",
    "models = [\"model_01_two_levels\",\n",
    "\"model_02_fuzzy_simple\",\n",
    "\"model_03_fuzzy_complex\",\n",
    "\"model_04_fuzzy_complex_and_tf\"]\n",
    "\n",
    "for model in  models:\n",
    "\n",
    "    settings = read_json_from_s3(f\"s3://alpha-splink-synthetic-data/model_training/person/v01/uk_citizens_max_groupsize_20/{model}/2021-01-01/combined_model/final_settings.json\")\n",
    "\n",
    "    s = Settings(settings)\n",
    "    c = s.bayes_factor_chart()\n",
    "    c.save(f\"/Users/robinlinacre/Documents/personal/robinl.github.io/src/mdx/comparing_splink_models/{model}_bf.vl.json\")"
   ]
  }
 ],
 "metadata": {
  "kernelspec": {
   "display_name": "Python 3",
   "language": "python",
   "name": "python3"
  },
  "language_info": {
   "codemirror_mode": {
    "name": "ipython",
    "version": 3
   },
   "file_extension": ".py",
   "mimetype": "text/x-python",
   "name": "python",
   "nbconvert_exporter": "python",
   "pygments_lexer": "ipython3",
   "version": "3.8.3"
  }
 },
 "nbformat": 4,
 "nbformat_minor": 4
}
